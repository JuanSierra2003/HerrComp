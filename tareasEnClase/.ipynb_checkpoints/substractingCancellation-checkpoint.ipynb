{
 "cells": [
  {
   "cell_type": "code",
   "execution_count": null,
   "id": "15a01d18-fb60-4437-8715-e8f17e239216",
   "metadata": {},
   "outputs": [],
   "source": [
    "# Substracting cancellation\n",
    "import numpy as np\n",
    "import matplotlib.pyplot as plt\n",
    "%matplotlib inline\n",
    "\n",
    "def sum1(N):\n",
    "    return sum(((-1)**n)*n/(n+1) for n in range(1, 2N))\n",
    "\n",
    "def sum2(N):\n",
    "    s1 = sum(-((2*n-1)/(2*n)) for n in range(1,N+1))\n",
    "    s2 = sum(2*n/(2*n+1) for n in range(1,N+1))\n",
    "    return s1 + s2\n",
    "def sum3(N):\n",
    "    return sum(1/(2*n*(2*n+1)) for n in range(1,N+1))\n",
    "\n",
    "def plot_diff_sums(N):\n",
    "    \"\"\"\n",
    "    Plots the relative difference among three sums which are the same mathematically\n",
    "    \"\"\"\n",
    "    adata = np.zeros(N+1)\n",
    "    bdata = np.zeros(N+1)\n",
    "    for n in range(1, N+1):\n",
    "        #print n, sum1(n), sum2(n), sum3(n)\n",
    "        #adata[n] = sum1(n)\n",
    "        #bdata[n] = sum3(n)\n",
    "        adata[n] = abs((sum1(n) - sum3(n))/sum3(n))\n",
    "        bdata[n] = abs((sum2(n) - sum3(n))/sum3(n))\n",
    "\n",
    "    fig, axes = plt.subplots()\n",
    "    axes.plot(adata, \"o-\", ms=6.0, label=\"%sum1\")\n",
    "    axes.plot(bdata, \"g*--\", ms = 9.0, label=\"%sum2\")\n",
    "    axes.set_xscale(\"log\")\n",
    "    axes.set_yscale(\"log\")\n",
    "    axes.legend(loc=2)\n",
    "    \n",
    "plot_diff_sums(1000)"
   ]
  }
 ],
 "metadata": {
  "kernelspec": {
   "display_name": "Python 3 (ipykernel)",
   "language": "python",
   "name": "python3"
  },
  "language_info": {
   "codemirror_mode": {
    "name": "ipython",
    "version": 3
   },
   "file_extension": ".py",
   "mimetype": "text/x-python",
   "name": "python",
   "nbconvert_exporter": "python",
   "pygments_lexer": "ipython3",
   "version": "3.10.9"
  }
 },
 "nbformat": 4,
 "nbformat_minor": 5
}

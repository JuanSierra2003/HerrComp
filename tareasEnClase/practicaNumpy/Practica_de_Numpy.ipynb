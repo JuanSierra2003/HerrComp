{
 "cells": [
  {
   "cell_type": "markdown",
   "metadata": {
    "id": "sV35fyCSSauD"
   },
   "source": [
    "#<center>Trabajo en grupo</center>\n",
    "\n",
    "\n",
    "\n",
    "##<center>Práctica De Numpy</center>\n",
    "\\\n",
    "\n",
    "<center>Judol Alejandro Rodríguez Franco\n",
    "<center>Juan Sebastián Sierra Jaraba\n",
    "<center>Universidad Nacional De Colombia\n",
    "<center>Facultad De Ciencias\n",
    "\n",
    "---\n",
    "###<center>Abstract</center>\n",
    "\n",
    "<center>Práctica de Numpy hecha con datos tomados de tracker. </center>\n",
    "\n",
    "---\n"
   ]
  },
  {
   "cell_type": "markdown",
   "metadata": {
    "id": "TG11TTOqolUx"
   },
   "source": [
    "###<center><b>Taller\n",
    "\n",
    "<b>El video adjunto muestra un carro que desciende por una rampa. Al analizar el video usando tracker se puede extraer información como la posición $\\vec{r}=(x,y)$, la velocidad $\\vec{v}=(v_x,v_y)$ y la aceleración $\\vec{a}=(a_x,a_y)$ en función del tiempo. Estas últimas se hacen a partir de calcular derivadas numéricas sobre los datos, así que pueden tener mucho ''ruido''. El archivo adjunto muestra esas variables, a lo largo del plano, en función del tiempo. Los datos fueron guardados en formato ```.csv```.\n",
    "\n",
    "Usted debe leer el archivo usando la función `genfromtxt`. En particular, preste atención a los argumentos `skip_headers`, `delimiter`, y  `missing_values`. En este caso queremos que a los `mising_values` se les asigne el tipo `np.nan`. Luego de hacerlo, tendrá el arreglo de numpy con los datos.\n",
    "\n",
    "Una vez leídos los datos, debe usar la columna de tiempo $t$ y la de $x$ para hacer una figura de uno contra el otro y detectar desde cuándo inicia el movimiento. Llamaremos $t_0$ a ese tiempo. Luego realice una regresión no lineal sobre estos datos, en el intervalo de tiempo $t\\geq t_0$ usando la función teórica $x(t)=x_0+v_{0x}t+\\frac{a_{x}t^2}{2}$. De esto obtendrá valores y errores en la posición inicial $x_0$, la velocidad inicial $v_0$ y la aceleración $a_x$. Grafique los datos originales y la función con los parámetros obtenidos. \n",
    "\n",
    "Finalmente calcule el promedio de $a_x$ a partir de la tabla de datos y compárelo porcentualmente con lo obtenido en el fit\n"
   ]
  },
  {
   "cell_type": "markdown",
   "metadata": {
    "id": "VwwfblO541cE"
   },
   "source": [
    "Para comenzar, alojamos el archivo en algún repositorio desde donde se pueda acceder a el, en este caso, una ubicación en Google Drive."
   ]
  },
  {
   "cell_type": "code",
   "execution_count": 1,
   "metadata": {
    "colab": {
     "base_uri": "https://localhost:8080/"
    },
    "id": "JWh3VkgK7jo8",
    "outputId": "9596568f-d71f-432c-9c58-990674bb47f4"
   },
   "outputs": [
    {
     "ename": "ModuleNotFoundError",
     "evalue": "No module named 'google'",
     "output_type": "error",
     "traceback": [
      "\u001b[0;31m---------------------------------------------------------------------------\u001b[0m",
      "\u001b[0;31mModuleNotFoundError\u001b[0m                       Traceback (most recent call last)",
      "Cell \u001b[0;32mIn[1], line 1\u001b[0m\n\u001b[0;32m----> 1\u001b[0m \u001b[38;5;28;01mfrom\u001b[39;00m \u001b[38;5;21;01mgoogle\u001b[39;00m\u001b[38;5;21;01m.\u001b[39;00m\u001b[38;5;21;01mcolab\u001b[39;00m \u001b[38;5;28;01mimport\u001b[39;00m drive\n\u001b[1;32m      2\u001b[0m drive\u001b[38;5;241m.\u001b[39mmount(\u001b[38;5;124m'\u001b[39m\u001b[38;5;124m/content/drive\u001b[39m\u001b[38;5;124m'\u001b[39m)\n",
      "\u001b[0;31mModuleNotFoundError\u001b[0m: No module named 'google'"
     ]
    }
   ],
   "source": [
    "from google.colab import drive\n",
    "drive.mount('/content/drive')"
   ]
  },
  {
   "cell_type": "markdown",
   "metadata": {
    "id": "3EiqfJB0at0U"
   },
   "source": [
    "Para leer el archivo .csv usamos la función `genfromtxt` de `numpy`, con la cual importamos el archivo separado por comas (`delimiter=','`). Además, el archivo tiene varias líneas iniciales vacíos, con información de texto, o con datos incompletos al igual que un par de filas al final, con lo cual excluimos dichas líneas y dejamos los datos útiles y completos (`skip_header=7` y `skip_footer=2`), así mismo en caso de haber valores perdidos se re asignan como nan (`missing_values=np.nan`)"
   ]
  },
  {
   "cell_type": "code",
   "execution_count": null,
   "metadata": {
    "colab": {
     "base_uri": "https://localhost:8080/",
     "height": 279
    },
    "id": "wM6Byd_0eDlZ",
    "outputId": "fd6caa07-bd29-4ddd-9fdb-c270f6366db6"
   },
   "outputs": [
    {
     "data": {
      "image/png": "[encoded data removed]",
      "text/plain": [
       "<Figure size 432x288 with 1 Axes>"
      ]
     },
     "metadata": {
      "needs_background": "light"
     },
     "output_type": "display_data"
    }
   ],
   "source": [
    "import numpy as np\n",
    "import matplotlib.pyplot as plt\n",
    "\n",
    "# Leer el archivo csv con genfromtxt\n",
    "data = np.genfromtxt('/content/drive/MyDrive/UNAL/01. Pregrado Física/Semestre 6/Herramientas Computacionales/2023-I - William Oquendo/Clase 6/Trabajo en grupo/datos-carro-1d.csv', delimiter=',', skip_header=7,skip_footer=2,missing_values=np.nan)\n",
    "#data = np.genfromtxt('/content/drive/MyDrive/docs/HerrComp/datos-carro-1d.csv', delimiter=',', skip_header=7,skip_footer=2,missing_values=np.nan)\n",
    "# data = np.ma.array(data, mask=np.isnan(data)) # Use a mask to mark the NaNs\n",
    "\n",
    "# Obtener los datos de tiempo y posición en x\n",
    "tiempo = data[:, 0]\n",
    "posicion_x = data[:, 1]\n",
    "\n",
    "# Graficar los datos de posición en x respecto al tiempo\n",
    "plt.plot(tiempo, posicion_x)\n",
    "plt.xlabel('Tiempo')\n",
    "plt.ylabel('Posición en x')\n",
    "plt.show()\n"
   ]
  },
  {
   "cell_type": "markdown",
   "metadata": {
    "id": "OIuMxcpy5UZr"
   },
   "source": [
    "Luego de haber generado la figura podemos identificar el tiempo inicial $t_0$ en el que empieza el movimiento cerca al primer segundo, sin embargo es necesario definir algún criterio que permita definir con algo más de precisión el momento en el cual el movimiento comienza. Usamos como criterio es verificar si el cambio de una velocidad a la medida en el tiempo posterior es menor a tres desviaciones estándar, cuando se vuelve mayor, tomamos este tiempo en el que sucede como tiempo de partida."
   ]
  },
  {
   "cell_type": "code",
   "execution_count": null,
   "metadata": {
    "id": "2yiNyVBuDwrX"
   },
   "outputs": [],
   "source": [
    "#Encontrar el momento en que se empieza a mover\n",
    "\n",
    "for ii in range(10, tiempo.size):\n",
    "  if abs(posicion_x[ii]-posicion_x[:ii].mean())>3*posicion_x[:ii].std():\n",
    "    init = ii\n",
    "    break\n",
    "\n"
   ]
  },
  {
   "cell_type": "markdown",
   "metadata": {
    "id": "1WvF3lqrdPiL"
   },
   "source": [
    "Ahora, para realizar la regresión no lineal sobre los datos y obtener los valores y errores, podemos utilizar la biblioteca scipy de Python y la función `curve_fit()` definida para los datos posteriores al tiempo inicial usando el modelo de movimiento uniformemente acelerado con parámetros fijos $x_0$, $v_{x0}$ y $a_{x0}$."
   ]
  },
  {
   "cell_type": "code",
   "execution_count": null,
   "metadata": {
    "id": "nL04FkvoqF7m"
   },
   "outputs": [],
   "source": [
    "from scipy.optimize import curve_fit\n",
    "\n",
    "# Definir la función de ajuste\n",
    "def ajuste(t, x_0, v_0x, a_x):\n",
    "    return x_0 + v_0x*t + 0.5*a_x*t**2\n",
    "\n",
    "# Realizar el ajuste de curva\n",
    "popt, pcov = curve_fit(ajuste, tiempo[init:], posicion_x[init:])\n",
    "\n",
    "# Obtener los valores ajustados y los errores\n",
    "x_0, v_0x, a_x = popt\n",
    "err_x_0, err_v_0x, err_a_x = np.sqrt(np.diag(pcov))"
   ]
  },
  {
   "cell_type": "markdown",
   "metadata": {
    "id": "08fF3tgMro26"
   },
   "source": [
    "Ahora que se obtuvieron los valores ajustados y los errores, graficamos la zona en la cual se realizó el ajuste y lo comparamos con los datos originales. Ponemos dentro de la gráfica los parámetros óptimos obtenidos de la regresión\n"
   ]
  },
  {
   "cell_type": "code",
   "execution_count": null,
   "metadata": {
    "colab": {
     "base_uri": "https://localhost:8080/",
     "height": 279
    },
    "id": "fozpvNSwrrVp",
    "outputId": "254896e1-668f-4355-bacd-9bf57ca33a05"
   },
   "outputs": [
    {
     "data": {
      "image/png": "[encoded data removed]",
      "text/plain": [
       "<Figure size 432x288 with 1 Axes>"
      ]
     },
     "metadata": {
      "needs_background": "light"
     },
     "output_type": "display_data"
    }
   ],
   "source": [
    "# Graficar los datos originales y la función ajustada\n",
    "plt.plot(tiempo, posicion_x, 'b.', label='Datos originales')\n",
    "plt.plot(tiempo[init:], ajuste(tiempo[init:], *popt), 'r-', label='Ajuste: x_0=%5.3f, v_0x=%5.3f, a_x=%5.3f' % tuple(popt))\n",
    "plt.xlabel('Tiempo')\n",
    "plt.ylabel('Posición en x')\n",
    "plt.legend()\n",
    "plt.show()\n"
   ]
  },
  {
   "cell_type": "markdown",
   "metadata": {
    "id": "4WIGWwWnyshy"
   },
   "source": [
    "Finalmente para calcular el promedio de a_x a partir de la tabla de datos y compararlo porcentualmente con lo obtenido en el ajuste, definimos dicho valor con la función `np.mean`"
   ]
  },
  {
   "cell_type": "code",
   "execution_count": null,
   "metadata": {
    "id": "Yh9m5VRRZG2p"
   },
   "outputs": [],
   "source": [
    "\n",
    "# Calcular el promedio de a_x a partir de la tabla de datos\n",
    "a_x_promedio = np.mean(data[init:, 5])\n",
    "\n",
    "# Calcular el porcentaje de diferencia\n"
   ]
  },
  {
   "cell_type": "markdown",
   "metadata": {
    "id": "pEra4obq6LyN"
   },
   "source": [
    "y calculamos el porcentaje de diferencia"
   ]
  },
  {
   "cell_type": "code",
   "execution_count": null,
   "metadata": {
    "colab": {
     "base_uri": "https://localhost:8080/"
    },
    "id": "e5D-J56ky4O8",
    "outputId": "3cb81aa7-e74e-4d5e-ff0f-037c4a2e2301"
   },
   "outputs": [
    {
     "name": "stdout",
     "output_type": "stream",
     "text": [
      "Posición inicial x_0 = 0.3400225173847094 +/- 0.00298649611595423\n",
      "Velocidad inicial v_0x = -0.6987845951548175 +/- 0.003274762572188574\n",
      "Aceleración a_x = 0.70917958592073 +/- 0.001713067090625163\n",
      "Valor promedio de la aceleración de la tabla de datos = 0.7107170142857143\n",
      "Porcentaje de diferencia entre el valor de la aceleración obtenido en el ajuste y el valor promedio de la tabla de datos = 0.21632074849501393 %\n"
     ]
    }
   ],
   "source": [
    "# Calcular el porcentaje de diferencia entre el valor de la aceleración obtenido en el ajuste y el valor promedio de la tabla de datos\n",
    "porcentaje_diferencia = abs(a_x - a_x_promedio) / a_x_promedio * 100\n",
    "\n",
    "print('Posición inicial x_0 =', x_0, '+/-', err_x_0)\n",
    "print('Velocidad inicial v_0x =', v_0x, '+/-', err_v_0x)\n",
    "print('Aceleración a_x =', a_x, '+/-', err_a_x)\n",
    "print('Valor promedio de la aceleración de la tabla de datos =', a_x_promedio)\n",
    "print('Porcentaje de diferencia entre el valor de la aceleración obtenido en el ajuste y el valor promedio de la tabla de datos =', porcentaje_diferencia, '%')\n"
   ]
  }
 ],
 "metadata": {
  "colab": {
   "provenance": []
  },
  "kernelspec": {
   "display_name": "Python 3 (ipykernel)",
   "language": "python",
   "name": "python3"
  },
  "language_info": {
   "codemirror_mode": {
    "name": "ipython",
    "version": 3
   },
   "file_extension": ".py",
   "mimetype": "text/x-python",
   "name": "python",
   "nbconvert_exporter": "python",
   "pygments_lexer": "ipython3",
   "version": "3.10.9"
  }
 },
 "nbformat": 4,
 "nbformat_minor": 4
}

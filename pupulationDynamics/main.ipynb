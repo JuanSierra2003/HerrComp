{
 "cells": [
  {
   "cell_type": "markdown",
   "id": "839091ab-51d2-4776-b54a-243734794ed4",
   "metadata": {},
   "source": [
    "<center>\n",
    "    \n",
    "# 2D Population Dynamics\n",
    "\n",
    "### Juan Sebastian Sierra Jaraba - jsierraj@unal.edu.co \n",
    "### Departamento de Física, Facultad de Ciencias, Sede Bogotá\n",
    "### Universidad Nacional de Colombia\n",
    "    \n",
    "</center>"
   ]
  },
  {
   "cell_type": "code",
   "execution_count": 1,
   "id": "e5f8226f-b30d-4450-9d41-49b09711c0ef",
   "metadata": {},
   "outputs": [],
   "source": [
    "import numpy as np\n",
    "from matplotlib import pyplot as plt"
   ]
  },
  {
   "cell_type": "code",
   "execution_count": 92,
   "id": "c39026fb-a589-4687-9f1c-f6fad8d6c616",
   "metadata": {},
   "outputs": [],
   "source": [
    "#Constants\n",
    "L, T, h, dt = 1, 1, 10**(-2), 10**(-4)\n",
    "Nl, Nt = int(L//h + 1), int(T//dt + 1)\n",
    "\n",
    "alpha = 10\n",
    "beta = 1\n",
    "gamma = 1\n",
    "delta = 1\n",
    "epsilon = 1\n",
    "zeta = 1\n",
    "eta = 1\n",
    "theta = 1\n",
    "iota = 1\n",
    "kappa = 1"
   ]
  },
  {
   "cell_type": "code",
   "execution_count": 93,
   "id": "0e768269-8e87-490d-a743-84b81d0bde53",
   "metadata": {},
   "outputs": [],
   "source": [
    "#Auxiliar functions\n",
    "\n",
    "def Laplacian(A, h):\n",
    "    xlim, ylim = A.shape\n",
    "    \n",
    "    return (A[np.arange(1,xlim+1)%xlim, ::] + A[np.arange(-1,xlim-1)%xlim, ::] + A[::, np.arange(1,ylim+1)%ylim] + A[::, np.arange(-1,ylim-1)%ylim] - 4*A)/h**2\n",
    "\n",
    "def grad(A, h):\n",
    "    xlim, ylim = A.shape\n",
    "    \n",
    "    nabla_x = (A[np.arange(1,xlim+1)%xlim, ::] - A[np.arange(-1,xlim-1)%xlim, ::])/h\n",
    "    nabla_y = (A[::, np.arange(1,ylim+1)%ylim] - A[::, np.arange(-1,ylim-1)%ylim])/h\n",
    "    \n",
    "    return np.transpose(np.array((nabla_x, nabla_y)), (1,2,0))\n",
    "    \n",
    "def dot(A, B):\n",
    "    return np.sum(A*B, 2)"
   ]
  },
  {
   "cell_type": "markdown",
   "id": "f8f7b9bc-a88d-45b2-b9ba-d94c082bcb12",
   "metadata": {},
   "source": [
    "Ecuación de densidades poblacionales de vegetación $V$, presa $P$ y depredador $D$ sobre un mapa:\n",
    "\n",
    "$$\n",
    "\\begin{align}\n",
    "\\frac{\\partial V}{\\partial t} &= V(\\alpha - \\beta P - \\gamma V) \\\\\n",
    "\\frac{\\partial P}{\\partial t} + \\vec{\\nabla} \\cdot \\vec{J}_P &= P(\\delta V - \\varepsilon D) \\\\\n",
    "\\frac{\\partial D}{\\partial t} + \\vec{\\nabla} \\cdot \\vec{J}_D &= D(\\zeta P - \\eta)\n",
    "\\end{align}\n",
    "$$\n",
    "\n",
    "Densidades de corriente de depredadores y presas:\n",
    "\n",
    "$$ \n",
    "\\begin{align}\n",
    "\\vec{J}_P &= P\\vec{v_P} = P(\\theta\\vec{\\nabla}V - \\iota\\vec{\\nabla}D) \\\\\n",
    "\\vec{J}_D &= D\\vec{v_D} = D\\kappa\\vec{\\nabla}P \n",
    "\\end{align}\n",
    "$$\n",
    "\n",
    "Donde $\\alpha$, $\\beta$, $\\gamma$, $\\delta$, $\\varepsilon$, $\\zeta$, $\\eta$, $\\theta$, $\\iota$ y $\\kappa$ son constantes.\n",
    "\n",
    "Ecuaciones completas:\n",
    "\n",
    "$$\n",
    "\\begin{align}\n",
    "\\frac{\\partial V}{\\partial t} &= V(\\alpha - \\beta P - \\gamma V) \\\\\n",
    "\\frac{\\partial P}{\\partial t} &= P(\\delta V - \\varepsilon D) - \\theta(P\\vec{\\nabla}²V + \\vec{\\nabla}P\\cdot\\vec{\\nabla}V) + \\iota(P\\vec{\\nabla}²D + \\vec{\\nabla}P\\cdot\\vec{\\nabla}D)\\\\\n",
    "\\frac{\\partial D}{\\partial t} &= D(\\zeta P - \\eta) - \\kappa(D\\vec{\\nabla}²P + \\vec{\\nabla}D\\cdot\\vec{\\nabla}P)\n",
    "\\end{align}\n",
    "$$\n"
   ]
  },
  {
   "cell_type": "code",
   "execution_count": 94,
   "id": "1fa596d9-b63a-49be-ad54-741aa41c223c",
   "metadata": {},
   "outputs": [],
   "source": [
    "#X=(V,P,D) ---> X' = phi(X, t)\n",
    "def phi(X, dt, h, alpha, beta, gamma, delta, epsilon, zeta, eta, theta, iota, kappa):\n",
    "    dV = X[0]*(alpha-beta*X[1]-gamma*X[0])\n",
    "    dP = X[1]*(delta*X[0]-epsilon*X[2]-theta*Laplacian(X[0],h)+iota*Laplacian(X[2],h)) - dot(grad(X[1],h), theta*grad(X[0],h)-iota*grad(X[2],h))\n",
    "    dD = X[2]*(zeta*X[1]-eta-kappa*Laplacian(X[1],h)) - kappa*dot(grad(X[2],h), grad(X[1],h))\n",
    "    \n",
    "    return np.array((dV, dP, dD))"
   ]
  },
  {
   "cell_type": "code",
   "execution_count": 95,
   "id": "6041dfcc-a747-4a0e-96a1-35ca04f1b44e",
   "metadata": {},
   "outputs": [],
   "source": [
    "#Solution with Runge-Kutta 4\n",
    "\n",
    "def solve(X_0, dt, h, alpha, beta, gamma, delta, epsilon, zeta, eta, theta, iota, kappa):\n",
    "    \n",
    "    X = np.zeros((Nt, 3, Nl, Nl))\n",
    "    X[0] = X_0\n",
    "    func = lambda X: phi(X, dt, h, alpha, beta, gamma, delta, epsilon, zeta, eta, theta, iota, kappa)\n",
    "    \n",
    "    for ii in range(Nt-1):\n",
    "        k1 = func(X[ii])\n",
    "        k2 = func(X[ii]+k1*dt/2)\n",
    "        k3 = func(X[ii]+k2*dt/2)\n",
    "        k4 = func(X[ii]+k3*dt)\n",
    "        \n",
    "        X[ii+1] = X[ii] + (k1+ 2*k2 + 2*k3 + k4)*dt/6\n",
    "    \n",
    "    return X"
   ]
  },
  {
   "cell_type": "code",
   "execution_count": 110,
   "id": "24656e8e-6d91-4953-867d-b4eb0ceca11d",
   "metadata": {},
   "outputs": [
    {
     "data": {
      "text/plain": [
       "<matplotlib.colorbar.Colorbar at 0x7f875f321600>"
      ]
     },
     "execution_count": 110,
     "metadata": {},
     "output_type": "execute_result"
    },
    {
     "data": {
      "image/png": "[encoded data removed]",
      "text/plain": [
       "<Figure size 640x480 with 2 Axes>"
      ]
     },
     "metadata": {},
     "output_type": "display_data"
    }
   ],
   "source": [
    "#Initial conditions\n",
    "x = np.linspace(0,L,Nl)\n",
    "y = x\n",
    "x,y = np.meshgrid(x,y)\n",
    "\n",
    "V = 10*np.ones((Nl,Nl))\n",
    "P = (1+np.sin(2*np.pi*x/L))\n",
    "D = (1-np.sin(2*np.pi*x/L))*.1\n",
    "\n",
    "X_0 = np.array((V, P, D))\n",
    "\n",
    "plt.imshow(P)\n",
    "plt.colorbar()"
   ]
  },
  {
   "cell_type": "code",
   "execution_count": 111,
   "id": "8b339a8a-883e-48c5-add1-fc255c807637",
   "metadata": {},
   "outputs": [
    {
     "name": "stderr",
     "output_type": "stream",
     "text": [
      "/tmp/ipykernel_4620/3249592815.py:3: RuntimeWarning: overflow encountered in multiply\n",
      "  dV = X[0]*(alpha-beta*X[1]-gamma*X[0])\n",
      "/tmp/ipykernel_4620/3249592815.py:4: RuntimeWarning: overflow encountered in multiply\n",
      "  dP = X[1]*(delta*X[0]-epsilon*X[2]-theta*Laplacian(X[0],h)+iota*Laplacian(X[2],h)) - dot(grad(X[1],h), theta*grad(X[0],h)-iota*grad(X[2],h))\n",
      "/tmp/ipykernel_4620/1524718554.py:17: RuntimeWarning: overflow encountered in multiply\n",
      "  return np.sum(A*B, 2)\n",
      "/tmp/ipykernel_4620/3249592815.py:4: RuntimeWarning: invalid value encountered in subtract\n",
      "  dP = X[1]*(delta*X[0]-epsilon*X[2]-theta*Laplacian(X[0],h)+iota*Laplacian(X[2],h)) - dot(grad(X[1],h), theta*grad(X[0],h)-iota*grad(X[2],h))\n",
      "/tmp/ipykernel_4620/3249592815.py:5: RuntimeWarning: overflow encountered in multiply\n",
      "  dD = X[2]*(zeta*X[1]-eta-kappa*Laplacian(X[1],h)) - kappa*dot(grad(X[2],h), grad(X[1],h))\n",
      "/tmp/ipykernel_4620/3249592815.py:5: RuntimeWarning: invalid value encountered in subtract\n",
      "  dD = X[2]*(zeta*X[1]-eta-kappa*Laplacian(X[1],h)) - kappa*dot(grad(X[2],h), grad(X[1],h))\n",
      "/tmp/ipykernel_4620/3249592815.py:3: RuntimeWarning: invalid value encountered in subtract\n",
      "  dV = X[0]*(alpha-beta*X[1]-gamma*X[0])\n",
      "/tmp/ipykernel_4620/1524718554.py:6: RuntimeWarning: invalid value encountered in subtract\n",
      "  return (A[np.arange(1,xlim+1)%xlim, ::] + A[np.arange(-1,xlim-1)%xlim, ::] + A[::, np.arange(1,ylim+1)%ylim] + A[::, np.arange(-1,ylim-1)%ylim] - 4*A)/h**2\n",
      "/tmp/ipykernel_4620/1524718554.py:11: RuntimeWarning: invalid value encountered in subtract\n",
      "  nabla_x = (A[np.arange(1,xlim+1)%xlim, ::] - A[np.arange(-1,xlim-1)%xlim, ::])/h\n",
      "/tmp/ipykernel_4620/1524718554.py:12: RuntimeWarning: invalid value encountered in subtract\n",
      "  nabla_y = (A[::, np.arange(1,ylim+1)%ylim] - A[::, np.arange(-1,ylim-1)%ylim])/h\n"
     ]
    }
   ],
   "source": [
    "sol = solve(X_0, dt, h, alpha, beta, gamma, delta, epsilon, zeta, eta, theta, iota, kappa)"
   ]
  },
  {
   "cell_type": "code",
   "execution_count": 122,
   "id": "2655a9ca-7f65-4c8f-94ad-634854c38c2c",
   "metadata": {},
   "outputs": [
    {
     "data": {
      "text/plain": [
       "<matplotlib.colorbar.Colorbar at 0x7f875ecf4dc0>"
      ]
     },
     "execution_count": 122,
     "metadata": {},
     "output_type": "execute_result"
    },
    {
     "data": {
      "image/png": "[encoded data removed]",
      "text/plain": [
       "<Figure size 640x480 with 2 Axes>"
      ]
     },
     "metadata": {},
     "output_type": "display_data"
    }
   ],
   "source": [
    "plt.imshow(sol[2][1])\n",
    "plt.colorbar()"
   ]
  }
 ],
 "metadata": {
  "kernelspec": {
   "display_name": "Python 3 (ipykernel)",
   "language": "python",
   "name": "python3"
  },
  "language_info": {
   "codemirror_mode": {
    "name": "ipython",
    "version": 3
   },
   "file_extension": ".py",
   "mimetype": "text/x-python",
   "name": "python",
   "nbconvert_exporter": "python",
   "pygments_lexer": "ipython3",
   "version": "3.10.9"
  }
 },
 "nbformat": 4,
 "nbformat_minor": 5
}

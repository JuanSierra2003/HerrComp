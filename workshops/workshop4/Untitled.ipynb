{
 "cells": [
  {
   "cell_type": "code",
   "execution_count": 1,
   "id": "ec4c9bfe-75fb-4f35-ba13-e34a33252336",
   "metadata": {},
   "outputs": [],
   "source": [
    "import numpy as np\n",
    "from matplotlib import pyplot as plt"
   ]
  },
  {
   "cell_type": "code",
   "execution_count": 146,
   "id": "af68ef4b-50b2-425e-8eb4-f8789165d733",
   "metadata": {},
   "outputs": [],
   "source": [
    "N = 100000000\n",
    "eps = 10**(-6)\n",
    "\n",
    "def main():\n",
    "    np.random.seed(32)\n",
    "    sample = np.random.rand(N, 2, 2)*2 - 1\n",
    "    \n",
    "    data = np.zeros(2*N)\n",
    "    data = data.reshape(2, N)\n",
    "    data[0] = np.trace(sample, axis1 = 1, axis2 = 2)\n",
    "    data[1] = np.linalg.det(sample)\n",
    "    \n",
    "    saddle = data[:,data[1,:]<-eps]\n",
    "    efp = data[:, (np.absolute(data[1,:])<eps) & (data[0,:]<-eps)]\n",
    "    ufp = data[:, (np.absolute(data[1,:])<eps) & (data[0,:]>eps)]\n",
    "    \n",
    "    sink = data[:, (np.power(data[0,:], 2)-4*data[1,:]>eps) & (data[0,:]<-eps) & (data[1,:]>eps)]\n",
    "    e_sink = data[:, (np.power(data[0,:], 2)-4*data[1,:]<-eps) & (data[0,:]<-eps) & (data[1,:]>eps)]\n",
    "    d_sink = data[:, (np.absolute(np.power(data[0,:], 2)-4*data[1,:])<eps) & (data[0,:]<-eps) & (data[1,:]>eps)]\n",
    "    \n",
    "    source = data[:, (np.power(data[0,:], 2)-4*data[1,:]>eps) & (data[0,:]>eps) & (data[1,:]>eps)]\n",
    "    e_source = data[:, (np.power(data[0,:], 2)-4*data[1,:]<-eps) & (data[0,:]>eps) & (data[1,:]>eps)]\n",
    "    d_source = data[:, (np.absolute(np.power(data[0,:], 2)-4*data[1,:])<eps) & (data[0,:]>eps) & (data[1,:]>eps)]\n",
    "    \n",
    "    u_motion = data[:, np.power(data[0,:],2)+np.power(data[1,:],2) < eps**2]\n",
    "    center = data[:, (np.absolute(data[0,:])<eps) & ((data[1,:]>eps))]\n",
    "    \n",
    "    \n",
    "    fig = plt.figure(figsize=(12.8, 4.8))\n",
    "    \n",
    "    ax1 = fig.add_subplot(1,2,1)\n",
    "    ax1.set_xlabel(r\"Trace $tr(A)$\")\n",
    "    ax1.set_ylabel(r\"Determinant $det(A)$\")\n",
    "    \n",
    "    ax1.plot(saddle[0,:],saddle[1,:], \".\")\n",
    "\n",
    "    ax1.plot(sink[0,:],sink[1,:], \".\")\n",
    "    ax1.plot(e_sink[0,:],e_sink[1,:], \".\")\n",
    "    \n",
    "    ax1.plot(source[0,:],source[1,:], \".\")\n",
    "    ax1.plot(e_source[0,:],e_source[1,:], \".\")\n",
    "    \n",
    "    ax1.plot(d_sink[0,:],d_sink[1,:], \".\")\n",
    "    ax1.plot(d_source[0,:],d_source[1,:], \".\")\n",
    "    \n",
    "    ax1.plot(efp[0,:],efp[1,:], \".\")\n",
    "    ax1.plot(ufp[0,:],ufp[1,:], \".\")\n",
    "    \n",
    "    ax1.plot(center[0,:],center[1,:], \".\")\n",
    "    ax1.plot(u_motion[0,:],u_motion[1,:], \".\")\n",
    "    \n",
    "    "
   ]
  },
  {
   "cell_type": "code",
   "execution_count": null,
   "id": "b1afd769-5e34-4d51-9500-5f36ae4011a8",
   "metadata": {},
   "outputs": [],
   "source": [
    "if __name__=='__main__':\n",
    "    main()"
   ]
  },
  {
   "cell_type": "code",
   "execution_count": null,
   "id": "6303a3e0-5249-4cb2-b76e-57ecfa197fa7",
   "metadata": {},
   "outputs": [],
   "source": []
  }
 ],
 "metadata": {
  "kernelspec": {
   "display_name": "Python 3 (ipykernel)",
   "language": "python",
   "name": "python3"
  },
  "language_info": {
   "codemirror_mode": {
    "name": "ipython",
    "version": 3
   },
   "file_extension": ".py",
   "mimetype": "text/x-python",
   "name": "python",
   "nbconvert_exporter": "python",
   "pygments_lexer": "ipython3",
   "version": "3.10.9"
  }
 },
 "nbformat": 4,
 "nbformat_minor": 5
}
